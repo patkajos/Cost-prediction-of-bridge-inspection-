{
 "cells": [
  {
   "cell_type": "code",
   "execution_count": 2,
   "metadata": {},
   "outputs": [
    {
     "name": "stderr",
     "output_type": "stream",
     "text": [
      "C:\\Users\\kajib\\Anaconda3\\patkajos812\\lib\\site-packages\\tensorflow\\python\\framework\\dtypes.py:526: FutureWarning: Passing (type, 1) or '1type' as a synonym of type is deprecated; in a future version of numpy, it will be understood as (type, (1,)) / '(1,)type'.\n",
      "  _np_qint8 = np.dtype([(\"qint8\", np.int8, 1)])\n",
      "C:\\Users\\kajib\\Anaconda3\\patkajos812\\lib\\site-packages\\tensorflow\\python\\framework\\dtypes.py:527: FutureWarning: Passing (type, 1) or '1type' as a synonym of type is deprecated; in a future version of numpy, it will be understood as (type, (1,)) / '(1,)type'.\n",
      "  _np_quint8 = np.dtype([(\"quint8\", np.uint8, 1)])\n",
      "C:\\Users\\kajib\\Anaconda3\\patkajos812\\lib\\site-packages\\tensorflow\\python\\framework\\dtypes.py:528: FutureWarning: Passing (type, 1) or '1type' as a synonym of type is deprecated; in a future version of numpy, it will be understood as (type, (1,)) / '(1,)type'.\n",
      "  _np_qint16 = np.dtype([(\"qint16\", np.int16, 1)])\n",
      "C:\\Users\\kajib\\Anaconda3\\patkajos812\\lib\\site-packages\\tensorflow\\python\\framework\\dtypes.py:529: FutureWarning: Passing (type, 1) or '1type' as a synonym of type is deprecated; in a future version of numpy, it will be understood as (type, (1,)) / '(1,)type'.\n",
      "  _np_quint16 = np.dtype([(\"quint16\", np.uint16, 1)])\n",
      "C:\\Users\\kajib\\Anaconda3\\patkajos812\\lib\\site-packages\\tensorflow\\python\\framework\\dtypes.py:530: FutureWarning: Passing (type, 1) or '1type' as a synonym of type is deprecated; in a future version of numpy, it will be understood as (type, (1,)) / '(1,)type'.\n",
      "  _np_qint32 = np.dtype([(\"qint32\", np.int32, 1)])\n",
      "C:\\Users\\kajib\\Anaconda3\\patkajos812\\lib\\site-packages\\tensorflow\\python\\framework\\dtypes.py:535: FutureWarning: Passing (type, 1) or '1type' as a synonym of type is deprecated; in a future version of numpy, it will be understood as (type, (1,)) / '(1,)type'.\n",
      "  np_resource = np.dtype([(\"resource\", np.ubyte, 1)])\n"
     ]
    }
   ],
   "source": [
    "import numpy as np\n",
    "import pandas as pd \n",
    "from sklearn.datasets import make_classification, make_regression\n",
    "from sklearn.preprocessing import StandardScaler\n",
    "from sklearn.model_selection import train_test_split\n",
    "import matplotlib.pyplot as plt\n",
    "\n",
    "from tensorflow.keras.models import Sequential\n",
    "from tensorflow.keras.layers import Dense\n",
    "from tensorflow.keras.utils import to_categorical\n",
    "\n",
    "%matplotlib inline"
   ]
  },
  {
   "cell_type": "code",
   "execution_count": 3,
   "metadata": {},
   "outputs": [],
   "source": [
    "df = pd.read_table('./df_cl',sep =',',low_memory=False)"
   ]
  },
  {
   "cell_type": "code",
   "execution_count": 4,
   "metadata": {},
   "outputs": [
    {
     "data": {
      "text/html": [
       "<div>\n",
       "<style scoped>\n",
       "    .dataframe tbody tr th:only-of-type {\n",
       "        vertical-align: middle;\n",
       "    }\n",
       "\n",
       "    .dataframe tbody tr th {\n",
       "        vertical-align: top;\n",
       "    }\n",
       "\n",
       "    .dataframe thead th {\n",
       "        text-align: right;\n",
       "    }\n",
       "</style>\n",
       "<table border=\"1\" class=\"dataframe\">\n",
       "  <thead>\n",
       "    <tr style=\"text-align: right;\">\n",
       "      <th></th>\n",
       "      <th>STATE_CODE_001</th>\n",
       "      <th>STRUCTURE_NUMBER_008</th>\n",
       "      <th>RECORD_TYPE_005A</th>\n",
       "      <th>ROUTE_PREFIX_005B</th>\n",
       "      <th>SERVICE_LEVEL_005C</th>\n",
       "      <th>ROUTE_NUMBER_005D</th>\n",
       "      <th>DIRECTION_005E</th>\n",
       "      <th>HIGHWAY_DISTRICT_002</th>\n",
       "      <th>COUNTY_CODE_003</th>\n",
       "      <th>PLACE_CODE_004</th>\n",
       "      <th>...</th>\n",
       "      <th>FED_AGENCY</th>\n",
       "      <th>DATE_LAST_UPDATE</th>\n",
       "      <th>TYPE_LAST_UPDATE</th>\n",
       "      <th>DEDUCT_CODE</th>\n",
       "      <th>STATUS_WITH_10YR_RULE</th>\n",
       "      <th>SUFFICIENCY_RATING</th>\n",
       "      <th>STATUS_NO_10YR_RULE</th>\n",
       "      <th>CAT10</th>\n",
       "      <th>CAT23</th>\n",
       "      <th>CAT29</th>\n",
       "    </tr>\n",
       "  </thead>\n",
       "  <tbody>\n",
       "    <tr>\n",
       "      <td>0</td>\n",
       "      <td>1</td>\n",
       "      <td>00000000000S702</td>\n",
       "      <td>1</td>\n",
       "      <td>6.0</td>\n",
       "      <td>1.0</td>\n",
       "      <td>04007</td>\n",
       "      <td>0.0</td>\n",
       "      <td>09</td>\n",
       "      <td>53.0</td>\n",
       "      <td>0.0</td>\n",
       "      <td>...</td>\n",
       "      <td>Y</td>\n",
       "      <td>5/9/2019</td>\n",
       "      <td>B</td>\n",
       "      <td>Z</td>\n",
       "      <td>0</td>\n",
       "      <td>100.0</td>\n",
       "      <td>0</td>\n",
       "      <td>G</td>\n",
       "      <td>7</td>\n",
       "      <td>145.50</td>\n",
       "    </tr>\n",
       "    <tr>\n",
       "      <td>1</td>\n",
       "      <td>1</td>\n",
       "      <td>00000000000S703</td>\n",
       "      <td>1</td>\n",
       "      <td>6.0</td>\n",
       "      <td>1.0</td>\n",
       "      <td>04003</td>\n",
       "      <td>0.0</td>\n",
       "      <td>09</td>\n",
       "      <td>53.0</td>\n",
       "      <td>3004.0</td>\n",
       "      <td>...</td>\n",
       "      <td>Y</td>\n",
       "      <td>5/9/2019</td>\n",
       "      <td>B</td>\n",
       "      <td>Z</td>\n",
       "      <td>0</td>\n",
       "      <td>100.0</td>\n",
       "      <td>0</td>\n",
       "      <td>G</td>\n",
       "      <td>7</td>\n",
       "      <td>133.28</td>\n",
       "    </tr>\n",
       "  </tbody>\n",
       "</table>\n",
       "<p>2 rows × 113 columns</p>\n",
       "</div>"
      ],
      "text/plain": [
       "   STATE_CODE_001 STRUCTURE_NUMBER_008  RECORD_TYPE_005A  ROUTE_PREFIX_005B  \\\n",
       "0               1      00000000000S702                 1                6.0   \n",
       "1               1      00000000000S703                 1                6.0   \n",
       "\n",
       "   SERVICE_LEVEL_005C ROUTE_NUMBER_005D  DIRECTION_005E HIGHWAY_DISTRICT_002  \\\n",
       "0                 1.0             04007             0.0                   09   \n",
       "1                 1.0             04003             0.0                   09   \n",
       "\n",
       "   COUNTY_CODE_003  PLACE_CODE_004  ... FED_AGENCY DATE_LAST_UPDATE  \\\n",
       "0             53.0             0.0  ...          Y         5/9/2019   \n",
       "1             53.0          3004.0  ...          Y         5/9/2019   \n",
       "\n",
       "  TYPE_LAST_UPDATE  DEDUCT_CODE  STATUS_WITH_10YR_RULE  SUFFICIENCY_RATING  \\\n",
       "0                B           Z                       0               100.0   \n",
       "1                B           Z                       0               100.0   \n",
       "\n",
       "   STATUS_NO_10YR_RULE  CAT10  CAT23   CAT29  \n",
       "0                    0      G      7  145.50  \n",
       "1                    0      G      7  133.28  \n",
       "\n",
       "[2 rows x 113 columns]"
      ]
     },
     "execution_count": 4,
     "metadata": {},
     "output_type": "execute_result"
    }
   ],
   "source": [
    "df.head(2)"
   ]
  },
  {
   "cell_type": "code",
   "execution_count": 5,
   "metadata": {},
   "outputs": [],
   "source": [
    "df.drop(['STRUCTURE_NUMBER_008','STATE_CODE_001'], axis = 1 , inplace = True)"
   ]
  },
  {
   "cell_type": "code",
   "execution_count": 6,
   "metadata": {},
   "outputs": [
    {
     "data": {
      "text/html": [
       "<div>\n",
       "<style scoped>\n",
       "    .dataframe tbody tr th:only-of-type {\n",
       "        vertical-align: middle;\n",
       "    }\n",
       "\n",
       "    .dataframe tbody tr th {\n",
       "        vertical-align: top;\n",
       "    }\n",
       "\n",
       "    .dataframe thead th {\n",
       "        text-align: right;\n",
       "    }\n",
       "</style>\n",
       "<table border=\"1\" class=\"dataframe\">\n",
       "  <thead>\n",
       "    <tr style=\"text-align: right;\">\n",
       "      <th></th>\n",
       "      <th>RECORD_TYPE_005A</th>\n",
       "      <th>ROUTE_PREFIX_005B</th>\n",
       "      <th>SERVICE_LEVEL_005C</th>\n",
       "      <th>ROUTE_NUMBER_005D</th>\n",
       "      <th>DIRECTION_005E</th>\n",
       "      <th>HIGHWAY_DISTRICT_002</th>\n",
       "      <th>COUNTY_CODE_003</th>\n",
       "      <th>PLACE_CODE_004</th>\n",
       "      <th>FEATURES_DESC_006A</th>\n",
       "      <th>FACILITY_CARRIED_007</th>\n",
       "      <th>...</th>\n",
       "      <th>FED_AGENCY</th>\n",
       "      <th>DATE_LAST_UPDATE</th>\n",
       "      <th>TYPE_LAST_UPDATE</th>\n",
       "      <th>DEDUCT_CODE</th>\n",
       "      <th>STATUS_WITH_10YR_RULE</th>\n",
       "      <th>SUFFICIENCY_RATING</th>\n",
       "      <th>STATUS_NO_10YR_RULE</th>\n",
       "      <th>CAT10</th>\n",
       "      <th>CAT23</th>\n",
       "      <th>CAT29</th>\n",
       "    </tr>\n",
       "  </thead>\n",
       "  <tbody>\n",
       "    <tr>\n",
       "      <td>0</td>\n",
       "      <td>1</td>\n",
       "      <td>6.0</td>\n",
       "      <td>1.0</td>\n",
       "      <td>04007</td>\n",
       "      <td>0.0</td>\n",
       "      <td>09</td>\n",
       "      <td>53.0</td>\n",
       "      <td>0.0</td>\n",
       "      <td>'PERDIDO CREEK           '</td>\n",
       "      <td>'IRR BIA RTE 4007  '</td>\n",
       "      <td>...</td>\n",
       "      <td>Y</td>\n",
       "      <td>5/9/2019</td>\n",
       "      <td>B</td>\n",
       "      <td>Z</td>\n",
       "      <td>0</td>\n",
       "      <td>100.0</td>\n",
       "      <td>0</td>\n",
       "      <td>G</td>\n",
       "      <td>7</td>\n",
       "      <td>145.50</td>\n",
       "    </tr>\n",
       "    <tr>\n",
       "      <td>1</td>\n",
       "      <td>1</td>\n",
       "      <td>6.0</td>\n",
       "      <td>1.0</td>\n",
       "      <td>04003</td>\n",
       "      <td>0.0</td>\n",
       "      <td>09</td>\n",
       "      <td>53.0</td>\n",
       "      <td>3004.0</td>\n",
       "      <td>'PERDIDO CREEK           '</td>\n",
       "      <td>'IRR BIA RTE 4003  '</td>\n",
       "      <td>...</td>\n",
       "      <td>Y</td>\n",
       "      <td>5/9/2019</td>\n",
       "      <td>B</td>\n",
       "      <td>Z</td>\n",
       "      <td>0</td>\n",
       "      <td>100.0</td>\n",
       "      <td>0</td>\n",
       "      <td>G</td>\n",
       "      <td>7</td>\n",
       "      <td>133.28</td>\n",
       "    </tr>\n",
       "  </tbody>\n",
       "</table>\n",
       "<p>2 rows × 111 columns</p>\n",
       "</div>"
      ],
      "text/plain": [
       "   RECORD_TYPE_005A  ROUTE_PREFIX_005B  SERVICE_LEVEL_005C ROUTE_NUMBER_005D  \\\n",
       "0                 1                6.0                 1.0             04007   \n",
       "1                 1                6.0                 1.0             04003   \n",
       "\n",
       "   DIRECTION_005E HIGHWAY_DISTRICT_002  COUNTY_CODE_003  PLACE_CODE_004  \\\n",
       "0             0.0                   09             53.0             0.0   \n",
       "1             0.0                   09             53.0          3004.0   \n",
       "\n",
       "           FEATURES_DESC_006A  FACILITY_CARRIED_007  ... FED_AGENCY  \\\n",
       "0  'PERDIDO CREEK           '  'IRR BIA RTE 4007  '  ...          Y   \n",
       "1  'PERDIDO CREEK           '  'IRR BIA RTE 4003  '  ...          Y   \n",
       "\n",
       "   DATE_LAST_UPDATE  TYPE_LAST_UPDATE  DEDUCT_CODE  STATUS_WITH_10YR_RULE  \\\n",
       "0          5/9/2019                 B           Z                       0   \n",
       "1          5/9/2019                 B           Z                       0   \n",
       "\n",
       "   SUFFICIENCY_RATING  STATUS_NO_10YR_RULE  CAT10  CAT23   CAT29  \n",
       "0               100.0                    0      G      7  145.50  \n",
       "1               100.0                    0      G      7  133.28  \n",
       "\n",
       "[2 rows x 111 columns]"
      ]
     },
     "execution_count": 6,
     "metadata": {},
     "output_type": "execute_result"
    }
   ],
   "source": [
    "df.head(2)"
   ]
  },
  {
   "cell_type": "code",
   "execution_count": 7,
   "metadata": {},
   "outputs": [
    {
     "data": {
      "text/plain": [
       "<matplotlib.axes._subplots.AxesSubplot at 0x232b3e1d248>"
      ]
     },
     "execution_count": 7,
     "metadata": {},
     "output_type": "execute_result"
    },
    {
     "data": {
      "image/png": "[encoded data removed]",
      "text/plain": [
       "<Figure size 432x288 with 1 Axes>"
      ]
     },
     "metadata": {
      "needs_background": "light"
     },
     "output_type": "display_data"
    }
   ],
   "source": [
    "df['STRUCTURE_KIND_043A'].value_counts().sort_index().plot(kind='bar')"
   ]
  },
  {
   "cell_type": "code",
   "execution_count": 8,
   "metadata": {},
   "outputs": [],
   "source": [
    "#m = [ i for i in df.columns if df[i].dtype == int]"
   ]
  },
  {
   "cell_type": "code",
   "execution_count": 9,
   "metadata": {},
   "outputs": [
    {
     "data": {
      "text/plain": [
       "0         31061094.0\n",
       "1         31062020.0\n",
       "2         32174330.0\n",
       "3         34481800.0\n",
       "4         34480000.0\n",
       "             ...    \n",
       "280369    18182996.0\n",
       "280370    18224348.0\n",
       "280371    18020896.0\n",
       "280372    18144916.0\n",
       "280373    18250840.0\n",
       "Name: LAT_016, Length: 280374, dtype: float64"
      ]
     },
     "execution_count": 9,
     "metadata": {},
     "output_type": "execute_result"
    }
   ],
   "source": [
    " df['LAT_016']"
   ]
  },
  {
   "cell_type": "code",
   "execution_count": 10,
   "metadata": {},
   "outputs": [],
   "source": [
    "numerical_data = df.select_dtypes(np.number)"
   ]
  },
  {
   "cell_type": "code",
   "execution_count": 11,
   "metadata": {},
   "outputs": [
    {
     "data": {
      "text/plain": [
       "(280374, 72)"
      ]
     },
     "execution_count": 11,
     "metadata": {},
     "output_type": "execute_result"
    }
   ],
   "source": [
    "numerical_data.shape"
   ]
  },
  {
   "cell_type": "code",
   "execution_count": 12,
   "metadata": {},
   "outputs": [
    {
     "data": {
      "text/plain": [
       "Index(['RECORD_TYPE_005A', 'ROUTE_PREFIX_005B', 'SERVICE_LEVEL_005C',\n",
       "       'DIRECTION_005E', 'COUNTY_CODE_003', 'PLACE_CODE_004',\n",
       "       'MIN_VERT_CLR_010', 'KILOPOINT_011', 'BASE_HWY_NETWORK_012', 'LAT_016',\n",
       "       'LONG_017', 'DETOUR_KILOS_019', 'TOLL_020', 'MAINTENANCE_021',\n",
       "       'OWNER_022', 'FUNCTIONAL_CLASS_026', 'YEAR_BUILT_027',\n",
       "       'TRAFFIC_LANES_ON_028A', 'TRAFFIC_LANES_UND_028B', 'ADT_029',\n",
       "       'YEAR_ADT_030', 'APPR_WIDTH_MT_032', 'MEDIAN_CODE_033',\n",
       "       'DEGREES_SKEW_034', 'STRUCTURE_FLARED_035', 'HISTORY_037',\n",
       "       'NAV_VERT_CLR_MT_039', 'NAV_HORR_CLR_MT_040', 'SERVICE_ON_042A',\n",
       "       'SERVICE_UND_042B', 'STRUCTURE_KIND_043A', 'STRUCTURE_TYPE_043B',\n",
       "       'APPR_KIND_044A', 'APPR_TYPE_044B', 'MAIN_UNIT_SPANS_045',\n",
       "       'APPR_SPANS_046', 'HORR_CLR_MT_047', 'MAX_SPAN_LEN_MT_048',\n",
       "       'STRUCTURE_LEN_MT_049', 'LEFT_CURB_MT_050A', 'RIGHT_CURB_MT_050B',\n",
       "       'ROADWAY_WIDTH_MT_051', 'DECK_WIDTH_MT_052', 'VERT_CLR_OVER_MT_053',\n",
       "       'VERT_CLR_UND_054B', 'LAT_UND_MT_055B', 'LEFT_LAT_UND_MT_056',\n",
       "       'OPERATING_RATING_064', 'INVENTORY_RATING_066', 'STRUCTURAL_EVAL_067',\n",
       "       'POSTING_EVAL_070', 'APPR_ROAD_EVAL_072', 'IMP_LEN_MT_076',\n",
       "       'DATE_OF_INSPECT_090', 'INSPECT_FREQ_MONTHS_091', 'BRIDGE_IMP_COST_094',\n",
       "       'ROADWAY_IMP_COST_095', 'TOTAL_IMP_COST_096', 'STRAHNET_HIGHWAY_100',\n",
       "       'TRAFFIC_DIRECTION_102', 'HIGHWAY_SYSTEM_104', 'FEDERAL_LANDS_105',\n",
       "       'YEAR_RECONSTRUCTED_106', 'PERCENT_ADT_TRUCK_109',\n",
       "       'NATIONAL_NETWORK_110', 'FUTURE_ADT_114', 'YEAR_OF_FUTURE_ADT_115',\n",
       "       'STATUS_WITH_10YR_RULE', 'SUFFICIENCY_RATING', 'STATUS_NO_10YR_RULE',\n",
       "       'CAT23', 'CAT29'],\n",
       "      dtype='object')"
      ]
     },
     "execution_count": 12,
     "metadata": {},
     "output_type": "execute_result"
    }
   ],
   "source": [
    "numerical_data.columns "
   ]
  },
  {
   "cell_type": "code",
   "execution_count": 13,
   "metadata": {},
   "outputs": [
    {
     "data": {
      "text/plain": [
       "(280374, 72)"
      ]
     },
     "execution_count": 13,
     "metadata": {},
     "output_type": "execute_result"
    }
   ],
   "source": [
    "numerical_data.shape"
   ]
  },
  {
   "cell_type": "code",
   "execution_count": 14,
   "metadata": {},
   "outputs": [],
   "source": [
    "X = numerical_data.drop('TOTAL_IMP_COST_096', axis = 1)\n",
    "y = numerical_data['TOTAL_IMP_COST_096'].astype(int)\n",
    "X_train, X_test, y_train, y_test = train_test_split(X, y,test_size=0.33, random_state = 42)\n",
    "sc = StandardScaler()\n",
    "X_train_sc = sc.fit_transform(X_train)\n",
    "X_test_sc = sc.transform(X_test)"
   ]
  },
  {
   "cell_type": "code",
   "execution_count": 15,
   "metadata": {},
   "outputs": [
    {
     "name": "stdout",
     "output_type": "stream",
     "text": [
      "WARNING:tensorflow:From C:\\Users\\kajib\\Anaconda3\\patkajos812\\lib\\site-packages\\tensorflow\\python\\ops\\resource_variable_ops.py:435: colocate_with (from tensorflow.python.framework.ops) is deprecated and will be removed in a future version.\n",
      "Instructions for updating:\n",
      "Colocations handled automatically by placer.\n"
     ]
    }
   ],
   "source": [
    "model = Sequential()\n",
    "model.add(Dense(71, # How many neurons do you want in your first layer.\n",
    "                input_shape=(71,),\n",
    "                activation='relu'))\n",
    "model.add(Dense(64,\n",
    "               activation ='relu',))\n",
    "model.add(Dense(1))"
   ]
  },
  {
   "cell_type": "code",
   "execution_count": 16,
   "metadata": {},
   "outputs": [
    {
     "name": "stdout",
     "output_type": "stream",
     "text": [
      "WARNING:tensorflow:From C:\\Users\\kajib\\Anaconda3\\patkajos812\\lib\\site-packages\\tensorflow\\python\\keras\\utils\\losses_utils.py:170: to_float (from tensorflow.python.ops.math_ops) is deprecated and will be removed in a future version.\n",
      "Instructions for updating:\n",
      "Use tf.cast instead.\n"
     ]
    }
   ],
   "source": [
    "model.compile(loss='mse', optimizer='adam', metrics=['mae'])"
   ]
  },
  {
   "cell_type": "code",
   "execution_count": 17,
   "metadata": {},
   "outputs": [
    {
     "name": "stdout",
     "output_type": "stream",
     "text": [
      "Train on 187850 samples, validate on 92524 samples\n",
      "WARNING:tensorflow:From C:\\Users\\kajib\\Anaconda3\\patkajos812\\lib\\site-packages\\tensorflow\\python\\ops\\math_ops.py:3066: to_int32 (from tensorflow.python.ops.math_ops) is deprecated and will be removed in a future version.\n",
      "Instructions for updating:\n",
      "Use tf.cast instead.\n",
      "Epoch 1/20\n",
      "187850/187850 [==============================] - 1s 8us/sample - loss: 2641544577.4745 - mean_absolute_error: 4750.7705 - val_loss: 2854829228.5131 - val_mean_absolute_error: 5594.5288\n",
      "Epoch 2/20\n",
      "187850/187850 [==============================] - 1s 6us/sample - loss: 2253761298.7056 - mean_absolute_error: 7035.2778 - val_loss: 2194226446.9521 - val_mean_absolute_error: 8849.2832\n",
      "Epoch 3/20\n",
      "187850/187850 [==============================] - 1s 5us/sample - loss: 1616677155.1748 - mean_absolute_error: 8795.8613 - val_loss: 1429764988.4972 - val_mean_absolute_error: 8782.8340\n",
      "Epoch 4/20\n",
      "187850/187850 [==============================] - 1s 5us/sample - loss: 1032129084.8390 - mean_absolute_error: 7590.9819 - val_loss: 886777736.2258 - val_mean_absolute_error: 6447.5054\n",
      "Epoch 5/20\n",
      "187850/187850 [==============================] - 1s 6us/sample - loss: 686256863.6243 - mean_absolute_error: 5324.4629 - val_loss: 649147345.6995 - val_mean_absolute_error: 4581.4277\n",
      "Epoch 6/20\n",
      "187850/187850 [==============================] - 1s 6us/sample - loss: 550699275.6379 - mean_absolute_error: 3943.4463 - val_loss: 570542148.8655 - val_mean_absolute_error: 3436.4314\n",
      "Epoch 7/20\n",
      "187850/187850 [==============================] - 1s 6us/sample - loss: 495511921.4016 - mean_absolute_error: 3169.0508 - val_loss: 535591034.4884 - val_mean_absolute_error: 3077.8259\n",
      "Epoch 8/20\n",
      "187850/187850 [==============================] - 1s 5us/sample - loss: 464480251.8466 - mean_absolute_error: 2866.4148 - val_loss: 511889629.0807 - val_mean_absolute_error: 2793.4570\n",
      "Epoch 9/20\n",
      "187850/187850 [==============================] - 1s 6us/sample - loss: 443871317.4241 - mean_absolute_error: 2682.1348 - val_loss: 496090300.3378 - val_mean_absolute_error: 2781.7380\n",
      "Epoch 10/20\n",
      "187850/187850 [==============================] - 1s 6us/sample - loss: 426874563.6972 - mean_absolute_error: 2618.5825 - val_loss: 482112907.7923 - val_mean_absolute_error: 2593.7563\n",
      "Epoch 11/20\n",
      "187850/187850 [==============================] - 1s 6us/sample - loss: 414820306.7324 - mean_absolute_error: 2519.7756 - val_loss: 472354718.9527 - val_mean_absolute_error: 2586.3083\n",
      "Epoch 12/20\n",
      "187850/187850 [==============================] - 1s 5us/sample - loss: 404445425.9728 - mean_absolute_error: 2481.9165 - val_loss: 464093079.5763 - val_mean_absolute_error: 2556.8557\n",
      "Epoch 13/20\n",
      "187850/187850 [==============================] - 1s 5us/sample - loss: 396313441.2241 - mean_absolute_error: 2440.2456 - val_loss: 456530157.9076 - val_mean_absolute_error: 2527.6658\n",
      "Epoch 14/20\n",
      "187850/187850 [==============================] - 1s 5us/sample - loss: 389405676.1796 - mean_absolute_error: 2417.4958 - val_loss: 451299903.8897 - val_mean_absolute_error: 2533.5745\n",
      "Epoch 15/20\n",
      "187850/187850 [==============================] - 1s 6us/sample - loss: 383624309.3403 - mean_absolute_error: 2400.5713 - val_loss: 446705151.8598 - val_mean_absolute_error: 2585.8789\n",
      "Epoch 16/20\n",
      "187850/187850 [==============================] - 1s 6us/sample - loss: 377944097.6019 - mean_absolute_error: 2421.8748 - val_loss: 439939933.4171 - val_mean_absolute_error: 2450.2268\n",
      "Epoch 17/20\n",
      "187850/187850 [==============================] - 1s 7us/sample - loss: 374353443.4279 - mean_absolute_error: 2368.4421 - val_loss: 436023491.6094 - val_mean_absolute_error: 2485.8013\n",
      "Epoch 18/20\n",
      "187850/187850 [==============================] - 1s 8us/sample - loss: 370952850.3322 - mean_absolute_error: 2407.1990 - val_loss: 433624742.6887 - val_mean_absolute_error: 2497.9929\n",
      "Epoch 19/20\n",
      "187850/187850 [==============================] - 1s 7us/sample - loss: 367719707.0154 - mean_absolute_error: 2380.4985 - val_loss: 431361899.8380 - val_mean_absolute_error: 2548.8318\n",
      "Epoch 20/20\n",
      "187850/187850 [==============================] - 1s 8us/sample - loss: 364872075.1175 - mean_absolute_error: 2427.6436 - val_loss: 428797162.4919 - val_mean_absolute_error: 2524.3599\n"
     ]
    }
   ],
   "source": [
    "history = model.fit(X_train_sc, y_train, validation_data=(X_test_sc, y_test), epochs=20, batch_size=512)"
   ]
  },
  {
   "cell_type": "code",
   "execution_count": 18,
   "metadata": {},
   "outputs": [
    {
     "data": {
      "text/plain": [
       "0    4878.807129\n",
       "dtype: float32"
      ]
     },
     "execution_count": 18,
     "metadata": {},
     "output_type": "execute_result"
    }
   ],
   "source": [
    "df_pred = pd.DataFrame(abs(model.predict(X_test_sc)))\n",
    "df_pred.mean() "
   ]
  },
  {
   "cell_type": "code",
   "execution_count": 18,
   "metadata": {},
   "outputs": [
    {
     "data": {
      "image/png": "[encoded data removed]",
      "text/plain": [
       "<Figure size 864x576 with 1 Axes>"
      ]
     },
     "metadata": {},
     "output_type": "display_data"
    }
   ],
   "source": [
    "\n",
    "train_loss = history.history['loss']\n",
    "plt.style.use('fivethirtyeight')\n",
    "test_loss = history.history['val_loss']\n",
    "plt.figure(figsize=(12, 8))\n",
    "plt.plot(train_loss, label='Training loss', color='k')\n",
    "plt.plot(test_loss, label='Testing loss', color='r')\n",
    "plt.legend();\n",
    "plt.savefig('neural')"
   ]
  },
  {
   "cell_type": "code",
   "execution_count": null,
   "metadata": {},
   "outputs": [],
   "source": []
  },
  {
   "cell_type": "code",
   "execution_count": null,
   "metadata": {},
   "outputs": [],
   "source": []
  },
  {
   "cell_type": "code",
   "execution_count": null,
   "metadata": {},
   "outputs": [],
   "source": []
  }
 ],
 "metadata": {
  "kernelspec": {
   "display_name": "Python 3",
   "language": "python",
   "name": "python3"
  },
  "language_info": {
   "codemirror_mode": {
    "name": "ipython",
    "version": 3
   },
   "file_extension": ".py",
   "mimetype": "text/x-python",
   "name": "python",
   "nbconvert_exporter": "python",
   "pygments_lexer": "ipython3",
   "version": "3.7.4"
  }
 },
 "nbformat": 4,
 "nbformat_minor": 4
}
