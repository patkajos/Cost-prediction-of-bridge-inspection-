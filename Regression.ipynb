{
 "cells": [
  {
   "cell_type": "code",
   "execution_count": 1,
   "metadata": {},
   "outputs": [],
   "source": [
    "import pandas as pd \n",
    "import seaborn as sns \n",
    "import matplotlib.pyplot as plt \n",
    "import geopandas\n",
    "import seaborn as sns \n",
    "import numpy as np \n",
    "from sklearn.model_selection import train_test_split, cross_val_score\n",
    "from sklearn.linear_model import LinearRegression\n",
    "from sklearn.preprocessing import StandardScaler"
   ]
  },
  {
   "cell_type": "code",
   "execution_count": 2,
   "metadata": {},
   "outputs": [],
   "source": [
    "df = pd.read_table('./df_cl',sep =',',low_memory=False)"
   ]
  },
  {
   "cell_type": "code",
   "execution_count": 3,
   "metadata": {},
   "outputs": [
    {
     "data": {
      "text/html": [
       "<div>\n",
       "<style scoped>\n",
       "    .dataframe tbody tr th:only-of-type {\n",
       "        vertical-align: middle;\n",
       "    }\n",
       "\n",
       "    .dataframe tbody tr th {\n",
       "        vertical-align: top;\n",
       "    }\n",
       "\n",
       "    .dataframe thead th {\n",
       "        text-align: right;\n",
       "    }\n",
       "</style>\n",
       "<table border=\"1\" class=\"dataframe\">\n",
       "  <thead>\n",
       "    <tr style=\"text-align: right;\">\n",
       "      <th></th>\n",
       "      <th>STATE_CODE_001</th>\n",
       "      <th>STRUCTURE_NUMBER_008</th>\n",
       "      <th>RECORD_TYPE_005A</th>\n",
       "      <th>ROUTE_PREFIX_005B</th>\n",
       "      <th>SERVICE_LEVEL_005C</th>\n",
       "      <th>ROUTE_NUMBER_005D</th>\n",
       "      <th>DIRECTION_005E</th>\n",
       "      <th>HIGHWAY_DISTRICT_002</th>\n",
       "      <th>COUNTY_CODE_003</th>\n",
       "      <th>PLACE_CODE_004</th>\n",
       "      <th>...</th>\n",
       "      <th>FED_AGENCY</th>\n",
       "      <th>DATE_LAST_UPDATE</th>\n",
       "      <th>TYPE_LAST_UPDATE</th>\n",
       "      <th>DEDUCT_CODE</th>\n",
       "      <th>STATUS_WITH_10YR_RULE</th>\n",
       "      <th>SUFFICIENCY_RATING</th>\n",
       "      <th>STATUS_NO_10YR_RULE</th>\n",
       "      <th>CAT10</th>\n",
       "      <th>CAT23</th>\n",
       "      <th>CAT29</th>\n",
       "    </tr>\n",
       "  </thead>\n",
       "  <tbody>\n",
       "    <tr>\n",
       "      <td>0</td>\n",
       "      <td>1</td>\n",
       "      <td>00000000000S702</td>\n",
       "      <td>1</td>\n",
       "      <td>6.0</td>\n",
       "      <td>1.0</td>\n",
       "      <td>04007</td>\n",
       "      <td>0.0</td>\n",
       "      <td>09</td>\n",
       "      <td>53.0</td>\n",
       "      <td>0.0</td>\n",
       "      <td>...</td>\n",
       "      <td>Y</td>\n",
       "      <td>5/9/2019</td>\n",
       "      <td>B</td>\n",
       "      <td>Z</td>\n",
       "      <td>0</td>\n",
       "      <td>100.0</td>\n",
       "      <td>0</td>\n",
       "      <td>G</td>\n",
       "      <td>7</td>\n",
       "      <td>145.50</td>\n",
       "    </tr>\n",
       "    <tr>\n",
       "      <td>1</td>\n",
       "      <td>1</td>\n",
       "      <td>00000000000S703</td>\n",
       "      <td>1</td>\n",
       "      <td>6.0</td>\n",
       "      <td>1.0</td>\n",
       "      <td>04003</td>\n",
       "      <td>0.0</td>\n",
       "      <td>09</td>\n",
       "      <td>53.0</td>\n",
       "      <td>3004.0</td>\n",
       "      <td>...</td>\n",
       "      <td>Y</td>\n",
       "      <td>5/9/2019</td>\n",
       "      <td>B</td>\n",
       "      <td>Z</td>\n",
       "      <td>0</td>\n",
       "      <td>100.0</td>\n",
       "      <td>0</td>\n",
       "      <td>G</td>\n",
       "      <td>7</td>\n",
       "      <td>133.28</td>\n",
       "    </tr>\n",
       "  </tbody>\n",
       "</table>\n",
       "<p>2 rows × 113 columns</p>\n",
       "</div>"
      ],
      "text/plain": [
       "   STATE_CODE_001 STRUCTURE_NUMBER_008  RECORD_TYPE_005A  ROUTE_PREFIX_005B  \\\n",
       "0               1      00000000000S702                 1                6.0   \n",
       "1               1      00000000000S703                 1                6.0   \n",
       "\n",
       "   SERVICE_LEVEL_005C ROUTE_NUMBER_005D  DIRECTION_005E HIGHWAY_DISTRICT_002  \\\n",
       "0                 1.0             04007             0.0                   09   \n",
       "1                 1.0             04003             0.0                   09   \n",
       "\n",
       "   COUNTY_CODE_003  PLACE_CODE_004  ... FED_AGENCY DATE_LAST_UPDATE  \\\n",
       "0             53.0             0.0  ...          Y         5/9/2019   \n",
       "1             53.0          3004.0  ...          Y         5/9/2019   \n",
       "\n",
       "  TYPE_LAST_UPDATE  DEDUCT_CODE  STATUS_WITH_10YR_RULE  SUFFICIENCY_RATING  \\\n",
       "0                B           Z                       0               100.0   \n",
       "1                B           Z                       0               100.0   \n",
       "\n",
       "   STATUS_NO_10YR_RULE  CAT10  CAT23   CAT29  \n",
       "0                    0      G      7  145.50  \n",
       "1                    0      G      7  133.28  \n",
       "\n",
       "[2 rows x 113 columns]"
      ]
     },
     "execution_count": 3,
     "metadata": {},
     "output_type": "execute_result"
    }
   ],
   "source": [
    "df.head(2)"
   ]
  },
  {
   "cell_type": "code",
   "execution_count": 4,
   "metadata": {},
   "outputs": [],
   "source": [
    "states = { 2: 'Alaska', 1: 'Alabama', 5: 'Arkansas', 4:'Arizona', 6:'California', 8:'Colorado',\n",
    "           9: 'Connecticut', 11: 'District of Columbia', 10: 'Delaware', 12: 'Florida', 13:'Georgia',\n",
    "           15: 'Hawaii', 19: 'Iowa', 16: 'Idaho', 17: 'Illinois', 18: 'Indiana', 20: 'Kansas', 21:'Kentucky',\n",
    "           22: 'Louisiana', 25: 'Massachusetts', 24: 'Maryland', 23: 'Maine', 26: 'Michigan',\n",
    "           27: 'Minnesota', 29: 'Missouri', 28: 'Mississippi', 30: 'Montana', 37: 'North Carolina',\n",
    "           38: 'North Dakota', 31: 'Nebraska', 32:'Nevada', 33: 'New Hampshire', 34: 'New Jersey', 35: 'New Mexico',\n",
    "           32: 'Nevada', 36: 'New York', 39: 'Ohio', 40: 'Oklahoma', 41:'Oregon', 42: 'Pennsylvania',\n",
    "           72: 'Puerto Rico' , 44:'Rhode Island' , 45: 'South Carolina', 46: 'South Dakota', 47: 'Tennessee', 48: 'Texas',\n",
    "           49: 'Utah', 51: 'Virginia', 50: 'Vermont', 53: 'Washington', 55:'Wisconsin', 54: 'West Virginia',66:'Guam',\n",
    "           56: 'Wyoming'}"
   ]
  },
  {
   "cell_type": "code",
   "execution_count": 5,
   "metadata": {},
   "outputs": [
    {
     "data": {
      "text/html": [
       "<div>\n",
       "<style scoped>\n",
       "    .dataframe tbody tr th:only-of-type {\n",
       "        vertical-align: middle;\n",
       "    }\n",
       "\n",
       "    .dataframe tbody tr th {\n",
       "        vertical-align: top;\n",
       "    }\n",
       "\n",
       "    .dataframe thead th {\n",
       "        text-align: right;\n",
       "    }\n",
       "</style>\n",
       "<table border=\"1\" class=\"dataframe\">\n",
       "  <thead>\n",
       "    <tr style=\"text-align: right;\">\n",
       "      <th></th>\n",
       "      <th>Alaska</th>\n",
       "      <th>Arizona</th>\n",
       "      <th>Arkansas</th>\n",
       "      <th>California</th>\n",
       "      <th>Colorado</th>\n",
       "      <th>Connecticut</th>\n",
       "      <th>Delaware</th>\n",
       "      <th>District of Columbia</th>\n",
       "      <th>Florida</th>\n",
       "      <th>Georgia</th>\n",
       "      <th>...</th>\n",
       "      <th>South Dakota</th>\n",
       "      <th>Tennessee</th>\n",
       "      <th>Texas</th>\n",
       "      <th>Utah</th>\n",
       "      <th>Vermont</th>\n",
       "      <th>Virginia</th>\n",
       "      <th>Washington</th>\n",
       "      <th>West Virginia</th>\n",
       "      <th>Wisconsin</th>\n",
       "      <th>Wyoming</th>\n",
       "    </tr>\n",
       "  </thead>\n",
       "  <tbody>\n",
       "    <tr>\n",
       "      <td>0</td>\n",
       "      <td>0</td>\n",
       "      <td>0</td>\n",
       "      <td>0</td>\n",
       "      <td>0</td>\n",
       "      <td>0</td>\n",
       "      <td>0</td>\n",
       "      <td>0</td>\n",
       "      <td>0</td>\n",
       "      <td>0</td>\n",
       "      <td>0</td>\n",
       "      <td>...</td>\n",
       "      <td>0</td>\n",
       "      <td>0</td>\n",
       "      <td>0</td>\n",
       "      <td>0</td>\n",
       "      <td>0</td>\n",
       "      <td>0</td>\n",
       "      <td>0</td>\n",
       "      <td>0</td>\n",
       "      <td>0</td>\n",
       "      <td>0</td>\n",
       "    </tr>\n",
       "    <tr>\n",
       "      <td>1</td>\n",
       "      <td>0</td>\n",
       "      <td>0</td>\n",
       "      <td>0</td>\n",
       "      <td>0</td>\n",
       "      <td>0</td>\n",
       "      <td>0</td>\n",
       "      <td>0</td>\n",
       "      <td>0</td>\n",
       "      <td>0</td>\n",
       "      <td>0</td>\n",
       "      <td>...</td>\n",
       "      <td>0</td>\n",
       "      <td>0</td>\n",
       "      <td>0</td>\n",
       "      <td>0</td>\n",
       "      <td>0</td>\n",
       "      <td>0</td>\n",
       "      <td>0</td>\n",
       "      <td>0</td>\n",
       "      <td>0</td>\n",
       "      <td>0</td>\n",
       "    </tr>\n",
       "  </tbody>\n",
       "</table>\n",
       "<p>2 rows × 52 columns</p>\n",
       "</div>"
      ],
      "text/plain": [
       "   Alaska  Arizona  Arkansas  California  Colorado  Connecticut  Delaware  \\\n",
       "0       0        0         0           0         0            0         0   \n",
       "1       0        0         0           0         0            0         0   \n",
       "\n",
       "   District of Columbia  Florida  Georgia  ...  South Dakota  Tennessee  \\\n",
       "0                     0        0        0  ...             0          0   \n",
       "1                     0        0        0  ...             0          0   \n",
       "\n",
       "   Texas  Utah  Vermont  Virginia  Washington  West Virginia  Wisconsin  \\\n",
       "0      0     0        0         0           0              0          0   \n",
       "1      0     0        0         0           0              0          0   \n",
       "\n",
       "   Wyoming  \n",
       "0        0  \n",
       "1        0  \n",
       "\n",
       "[2 rows x 52 columns]"
      ]
     },
     "execution_count": 5,
     "metadata": {},
     "output_type": "execute_result"
    }
   ],
   "source": [
    "df['STATE_CODE_001'].replace(states, inplace = True)\n",
    "dummies = pd.get_dummies(df['STATE_CODE_001'],drop_first=True)\n",
    "dummies.head(2)"
   ]
  },
  {
   "cell_type": "code",
   "execution_count": 6,
   "metadata": {},
   "outputs": [
    {
     "data": {
      "text/html": [
       "<div>\n",
       "<style scoped>\n",
       "    .dataframe tbody tr th:only-of-type {\n",
       "        vertical-align: middle;\n",
       "    }\n",
       "\n",
       "    .dataframe tbody tr th {\n",
       "        vertical-align: top;\n",
       "    }\n",
       "\n",
       "    .dataframe thead th {\n",
       "        text-align: right;\n",
       "    }\n",
       "</style>\n",
       "<table border=\"1\" class=\"dataframe\">\n",
       "  <thead>\n",
       "    <tr style=\"text-align: right;\">\n",
       "      <th></th>\n",
       "      <th>STATE_CODE_001</th>\n",
       "      <th>STRUCTURE_NUMBER_008</th>\n",
       "      <th>RECORD_TYPE_005A</th>\n",
       "      <th>ROUTE_PREFIX_005B</th>\n",
       "      <th>SERVICE_LEVEL_005C</th>\n",
       "      <th>ROUTE_NUMBER_005D</th>\n",
       "      <th>DIRECTION_005E</th>\n",
       "      <th>HIGHWAY_DISTRICT_002</th>\n",
       "      <th>COUNTY_CODE_003</th>\n",
       "      <th>PLACE_CODE_004</th>\n",
       "      <th>...</th>\n",
       "      <th>South Dakota</th>\n",
       "      <th>Tennessee</th>\n",
       "      <th>Texas</th>\n",
       "      <th>Utah</th>\n",
       "      <th>Vermont</th>\n",
       "      <th>Virginia</th>\n",
       "      <th>Washington</th>\n",
       "      <th>West Virginia</th>\n",
       "      <th>Wisconsin</th>\n",
       "      <th>Wyoming</th>\n",
       "    </tr>\n",
       "  </thead>\n",
       "  <tbody>\n",
       "    <tr>\n",
       "      <td>0</td>\n",
       "      <td>Alabama</td>\n",
       "      <td>00000000000S702</td>\n",
       "      <td>1</td>\n",
       "      <td>6.0</td>\n",
       "      <td>1.0</td>\n",
       "      <td>04007</td>\n",
       "      <td>0.0</td>\n",
       "      <td>09</td>\n",
       "      <td>53.0</td>\n",
       "      <td>0.0</td>\n",
       "      <td>...</td>\n",
       "      <td>0</td>\n",
       "      <td>0</td>\n",
       "      <td>0</td>\n",
       "      <td>0</td>\n",
       "      <td>0</td>\n",
       "      <td>0</td>\n",
       "      <td>0</td>\n",
       "      <td>0</td>\n",
       "      <td>0</td>\n",
       "      <td>0</td>\n",
       "    </tr>\n",
       "    <tr>\n",
       "      <td>1</td>\n",
       "      <td>Alabama</td>\n",
       "      <td>00000000000S703</td>\n",
       "      <td>1</td>\n",
       "      <td>6.0</td>\n",
       "      <td>1.0</td>\n",
       "      <td>04003</td>\n",
       "      <td>0.0</td>\n",
       "      <td>09</td>\n",
       "      <td>53.0</td>\n",
       "      <td>3004.0</td>\n",
       "      <td>...</td>\n",
       "      <td>0</td>\n",
       "      <td>0</td>\n",
       "      <td>0</td>\n",
       "      <td>0</td>\n",
       "      <td>0</td>\n",
       "      <td>0</td>\n",
       "      <td>0</td>\n",
       "      <td>0</td>\n",
       "      <td>0</td>\n",
       "      <td>0</td>\n",
       "    </tr>\n",
       "  </tbody>\n",
       "</table>\n",
       "<p>2 rows × 165 columns</p>\n",
       "</div>"
      ],
      "text/plain": [
       "  STATE_CODE_001 STRUCTURE_NUMBER_008  RECORD_TYPE_005A  ROUTE_PREFIX_005B  \\\n",
       "0        Alabama      00000000000S702                 1                6.0   \n",
       "1        Alabama      00000000000S703                 1                6.0   \n",
       "\n",
       "   SERVICE_LEVEL_005C ROUTE_NUMBER_005D  DIRECTION_005E HIGHWAY_DISTRICT_002  \\\n",
       "0                 1.0             04007             0.0                   09   \n",
       "1                 1.0             04003             0.0                   09   \n",
       "\n",
       "   COUNTY_CODE_003  PLACE_CODE_004  ... South Dakota Tennessee Texas  Utah  \\\n",
       "0             53.0             0.0  ...            0         0     0     0   \n",
       "1             53.0          3004.0  ...            0         0     0     0   \n",
       "\n",
       "   Vermont  Virginia  Washington  West Virginia  Wisconsin  Wyoming  \n",
       "0        0         0           0              0          0        0  \n",
       "1        0         0           0              0          0        0  \n",
       "\n",
       "[2 rows x 165 columns]"
      ]
     },
     "execution_count": 6,
     "metadata": {},
     "output_type": "execute_result"
    }
   ],
   "source": [
    "df_dummies = pd.concat([df, dummies.reindex(df.index)], axis=1)\n",
    "df_dummies.head(2)"
   ]
  },
  {
   "cell_type": "code",
   "execution_count": 7,
   "metadata": {},
   "outputs": [
    {
     "data": {
      "text/html": [
       "<div>\n",
       "<style scoped>\n",
       "    .dataframe tbody tr th:only-of-type {\n",
       "        vertical-align: middle;\n",
       "    }\n",
       "\n",
       "    .dataframe tbody tr th {\n",
       "        vertical-align: top;\n",
       "    }\n",
       "\n",
       "    .dataframe thead th {\n",
       "        text-align: right;\n",
       "    }\n",
       "</style>\n",
       "<table border=\"1\" class=\"dataframe\">\n",
       "  <thead>\n",
       "    <tr style=\"text-align: right;\">\n",
       "      <th></th>\n",
       "      <th>STATE_CODE_001</th>\n",
       "      <th>STRUCTURE_NUMBER_008</th>\n",
       "      <th>RECORD_TYPE_005A</th>\n",
       "      <th>ROUTE_PREFIX_005B</th>\n",
       "      <th>SERVICE_LEVEL_005C</th>\n",
       "      <th>ROUTE_NUMBER_005D</th>\n",
       "      <th>DIRECTION_005E</th>\n",
       "      <th>HIGHWAY_DISTRICT_002</th>\n",
       "      <th>COUNTY_CODE_003</th>\n",
       "      <th>PLACE_CODE_004</th>\n",
       "      <th>...</th>\n",
       "      <th>Wyoming</th>\n",
       "      <th>Concret</th>\n",
       "      <th>Concrete continuous</th>\n",
       "      <th>Masonary</th>\n",
       "      <th>Other</th>\n",
       "      <th>Prestressed concret</th>\n",
       "      <th>Prestressed concret continous</th>\n",
       "      <th>Steel</th>\n",
       "      <th>Steel continous</th>\n",
       "      <th>Wood or Timber</th>\n",
       "    </tr>\n",
       "  </thead>\n",
       "  <tbody>\n",
       "    <tr>\n",
       "      <td>0</td>\n",
       "      <td>Alabama</td>\n",
       "      <td>00000000000S702</td>\n",
       "      <td>1</td>\n",
       "      <td>6.0</td>\n",
       "      <td>1.0</td>\n",
       "      <td>04007</td>\n",
       "      <td>0.0</td>\n",
       "      <td>09</td>\n",
       "      <td>53.0</td>\n",
       "      <td>0.0</td>\n",
       "      <td>...</td>\n",
       "      <td>0</td>\n",
       "      <td>0</td>\n",
       "      <td>0</td>\n",
       "      <td>0</td>\n",
       "      <td>0</td>\n",
       "      <td>1</td>\n",
       "      <td>0</td>\n",
       "      <td>0</td>\n",
       "      <td>0</td>\n",
       "      <td>0</td>\n",
       "    </tr>\n",
       "    <tr>\n",
       "      <td>1</td>\n",
       "      <td>Alabama</td>\n",
       "      <td>00000000000S703</td>\n",
       "      <td>1</td>\n",
       "      <td>6.0</td>\n",
       "      <td>1.0</td>\n",
       "      <td>04003</td>\n",
       "      <td>0.0</td>\n",
       "      <td>09</td>\n",
       "      <td>53.0</td>\n",
       "      <td>3004.0</td>\n",
       "      <td>...</td>\n",
       "      <td>0</td>\n",
       "      <td>0</td>\n",
       "      <td>0</td>\n",
       "      <td>0</td>\n",
       "      <td>0</td>\n",
       "      <td>1</td>\n",
       "      <td>0</td>\n",
       "      <td>0</td>\n",
       "      <td>0</td>\n",
       "      <td>0</td>\n",
       "    </tr>\n",
       "  </tbody>\n",
       "</table>\n",
       "<p>2 rows × 174 columns</p>\n",
       "</div>"
      ],
      "text/plain": [
       "  STATE_CODE_001 STRUCTURE_NUMBER_008  RECORD_TYPE_005A  ROUTE_PREFIX_005B  \\\n",
       "0        Alabama      00000000000S702                 1                6.0   \n",
       "1        Alabama      00000000000S703                 1                6.0   \n",
       "\n",
       "   SERVICE_LEVEL_005C ROUTE_NUMBER_005D  DIRECTION_005E HIGHWAY_DISTRICT_002  \\\n",
       "0                 1.0             04007             0.0                   09   \n",
       "1                 1.0             04003             0.0                   09   \n",
       "\n",
       "   COUNTY_CODE_003  PLACE_CODE_004  ... Wyoming Concret Concrete continuous  \\\n",
       "0             53.0             0.0  ...       0       0                   0   \n",
       "1             53.0          3004.0  ...       0       0                   0   \n",
       "\n",
       "   Masonary  Other  Prestressed concret  Prestressed concret continous  Steel  \\\n",
       "0         0      0                    1                              0      0   \n",
       "1         0      0                    1                              0      0   \n",
       "\n",
       "   Steel continous  Wood or Timber  \n",
       "0                0               0  \n",
       "1                0               0  \n",
       "\n",
       "[2 rows x 174 columns]"
      ]
     },
     "execution_count": 7,
     "metadata": {},
     "output_type": "execute_result"
    }
   ],
   "source": [
    "Material = { 2:'Concrete continuous', 1:'Concret', 3:'Steel', 4:'Steel continous', 5:'Prestressed concret',\n",
    "          6:'Prestressed concret continous', 7:'Wood or Timber' ,8:'Masonary',9:'Almunuim',0:'Other'\n",
    "           }\n",
    "df['STRUCTURE_KIND_043A'].replace(Material, inplace = True)\n",
    "df_type = pd.get_dummies(df['STRUCTURE_KIND_043A'],drop_first=True)\n",
    "df_reg = pd.concat([df_dummies, df_type .reindex(df.index)], axis=1)\n",
    "df_reg.head(2)"
   ]
  },
  {
   "cell_type": "code",
   "execution_count": 8,
   "metadata": {},
   "outputs": [],
   "source": [
    "from sklearn.datasets import make_classification, make_regression\n",
    "from sklearn.preprocessing import StandardScaler\n",
    "from sklearn.model_selection import train_test_split\n",
    "import matplotlib.pyplot as plt\n",
    "from sklearn.linear_model import LinearRegression"
   ]
  },
  {
   "cell_type": "code",
   "execution_count": 9,
   "metadata": {},
   "outputs": [],
   "source": [
    "numeric = df_reg.select_dtypes(exclude ='object')\n",
    "X = numeric.drop('TOTAL_IMP_COST_096', axis = 1)\n",
    "y = numeric['TOTAL_IMP_COST_096'].astype(int)\n",
    "X_train, X_test, y_train, y_test = train_test_split(X, y,test_size=0.33, random_state = 42)\n",
    "sc = StandardScaler()\n",
    "X_train_sc = sc.fit_transform(X_train)\n",
    "X_test_sc = sc.transform(X_test)"
   ]
  },
  {
   "cell_type": "code",
   "execution_count": 10,
   "metadata": {},
   "outputs": [],
   "source": [
    "from sklearn.decomposition import PCA"
   ]
  },
  {
   "cell_type": "code",
   "execution_count": 11,
   "metadata": {},
   "outputs": [
    {
     "data": {
      "text/plain": [
       "PCA(copy=True, iterated_power='auto', n_components=10, random_state=None,\n",
       "    svd_solver='auto', tol=0.0, whiten=False)"
      ]
     },
     "execution_count": 11,
     "metadata": {},
     "output_type": "execute_result"
    }
   ],
   "source": [
    "pca = PCA(n_components=10)\n",
    "pca.fit(X_train_sc)"
   ]
  },
  {
   "cell_type": "code",
   "execution_count": 12,
   "metadata": {},
   "outputs": [
    {
     "name": "stdout",
     "output_type": "stream",
     "text": [
      "Explained variance (first 5 components): [0.06 0.04 0.03 0.02 0.02 0.02 0.02 0.02 0.02 0.01]\n"
     ]
    }
   ],
   "source": [
    "var_exp = pca.explained_variance_ratio_\n",
    "print(f'Explained variance (first 5 components): {np.round(var_exp[:10],2)}')"
   ]
  },
  {
   "cell_type": "code",
   "execution_count": 13,
   "metadata": {},
   "outputs": [
    {
     "name": "stdout",
     "output_type": "stream",
     "text": [
      "Cumulative explained variance (first 20 components): [0.064 0.104 0.133 0.158 0.18  0.199 0.218 0.235 0.251 0.266]\n"
     ]
    }
   ],
   "source": [
    "cum_var_exp = np.cumsum(var_exp)\n",
    "print(f'Cumulative explained variance (first 20 components): {np.round(cum_var_exp[:10],3)}')"
   ]
  },
  {
   "cell_type": "code",
   "execution_count": 14,
   "metadata": {},
   "outputs": [],
   "source": [
    "zsub = pca.transform(X)\n",
    "df_Zsub = pd.DataFrame(zsub)"
   ]
  },
  {
   "cell_type": "code",
   "execution_count": 15,
   "metadata": {},
   "outputs": [
    {
     "data": {
      "text/html": [
       "<div>\n",
       "<style scoped>\n",
       "    .dataframe tbody tr th:only-of-type {\n",
       "        vertical-align: middle;\n",
       "    }\n",
       "\n",
       "    .dataframe tbody tr th {\n",
       "        vertical-align: top;\n",
       "    }\n",
       "\n",
       "    .dataframe thead th {\n",
       "        text-align: right;\n",
       "    }\n",
       "</style>\n",
       "<table border=\"1\" class=\"dataframe\">\n",
       "  <thead>\n",
       "    <tr style=\"text-align: right;\">\n",
       "      <th></th>\n",
       "      <th>0</th>\n",
       "      <th>1</th>\n",
       "      <th>2</th>\n",
       "      <th>3</th>\n",
       "      <th>4</th>\n",
       "      <th>5</th>\n",
       "      <th>6</th>\n",
       "      <th>7</th>\n",
       "      <th>8</th>\n",
       "      <th>9</th>\n",
       "    </tr>\n",
       "  </thead>\n",
       "  <tbody>\n",
       "    <tr>\n",
       "      <td>0</td>\n",
       "      <td>-1.335381e+06</td>\n",
       "      <td>-1.934073e+06</td>\n",
       "      <td>-1.494731e+06</td>\n",
       "      <td>-1.082835e+07</td>\n",
       "      <td>-5.443735e+06</td>\n",
       "      <td>3.809128e+07</td>\n",
       "      <td>-6.744779e+06</td>\n",
       "      <td>2.534770e+07</td>\n",
       "      <td>9.169108e+06</td>\n",
       "      <td>-8.280341e+06</td>\n",
       "    </tr>\n",
       "    <tr>\n",
       "      <td>1</td>\n",
       "      <td>-1.335176e+06</td>\n",
       "      <td>-1.933761e+06</td>\n",
       "      <td>-1.494108e+06</td>\n",
       "      <td>-1.082822e+07</td>\n",
       "      <td>-5.444292e+06</td>\n",
       "      <td>3.809120e+07</td>\n",
       "      <td>-6.744004e+06</td>\n",
       "      <td>2.534758e+07</td>\n",
       "      <td>9.169605e+06</td>\n",
       "      <td>-8.280560e+06</td>\n",
       "    </tr>\n",
       "    <tr>\n",
       "      <td>2</td>\n",
       "      <td>-1.306741e+06</td>\n",
       "      <td>-1.759739e+06</td>\n",
       "      <td>-1.084164e+06</td>\n",
       "      <td>-1.078114e+07</td>\n",
       "      <td>-5.827892e+06</td>\n",
       "      <td>3.707254e+07</td>\n",
       "      <td>-6.242940e+06</td>\n",
       "      <td>2.485439e+07</td>\n",
       "      <td>8.831710e+06</td>\n",
       "      <td>-7.825621e+06</td>\n",
       "    </tr>\n",
       "    <tr>\n",
       "      <td>3</td>\n",
       "      <td>-1.350678e+06</td>\n",
       "      <td>-1.740802e+06</td>\n",
       "      <td>-8.988039e+05</td>\n",
       "      <td>-1.130643e+07</td>\n",
       "      <td>-6.343577e+06</td>\n",
       "      <td>3.834439e+07</td>\n",
       "      <td>-6.253035e+06</td>\n",
       "      <td>2.581677e+07</td>\n",
       "      <td>9.092304e+06</td>\n",
       "      <td>-7.950054e+06</td>\n",
       "    </tr>\n",
       "    <tr>\n",
       "      <td>4</td>\n",
       "      <td>-1.355346e+06</td>\n",
       "      <td>-1.748827e+06</td>\n",
       "      <td>-9.096332e+05</td>\n",
       "      <td>-1.131690e+07</td>\n",
       "      <td>-6.340475e+06</td>\n",
       "      <td>3.840410e+07</td>\n",
       "      <td>-6.274540e+06</td>\n",
       "      <td>2.585353e+07</td>\n",
       "      <td>9.103044e+06</td>\n",
       "      <td>-7.968066e+06</td>\n",
       "    </tr>\n",
       "    <tr>\n",
       "      <td>...</td>\n",
       "      <td>...</td>\n",
       "      <td>...</td>\n",
       "      <td>...</td>\n",
       "      <td>...</td>\n",
       "      <td>...</td>\n",
       "      <td>...</td>\n",
       "      <td>...</td>\n",
       "      <td>...</td>\n",
       "      <td>...</td>\n",
       "      <td>...</td>\n",
       "    </tr>\n",
       "    <tr>\n",
       "      <td>280369</td>\n",
       "      <td>-9.726982e+05</td>\n",
       "      <td>-1.746130e+06</td>\n",
       "      <td>-2.044974e+06</td>\n",
       "      <td>-7.439774e+06</td>\n",
       "      <td>-2.711359e+06</td>\n",
       "      <td>2.834459e+07</td>\n",
       "      <td>-5.824412e+06</td>\n",
       "      <td>1.839118e+07</td>\n",
       "      <td>7.066041e+06</td>\n",
       "      <td>-6.758705e+06</td>\n",
       "    </tr>\n",
       "    <tr>\n",
       "      <td>280370</td>\n",
       "      <td>-9.847106e+05</td>\n",
       "      <td>-1.784745e+06</td>\n",
       "      <td>-2.115823e+06</td>\n",
       "      <td>-7.521064e+06</td>\n",
       "      <td>-2.691918e+06</td>\n",
       "      <td>2.877534e+07</td>\n",
       "      <td>-5.944857e+06</td>\n",
       "      <td>1.864662e+07</td>\n",
       "      <td>7.190929e+06</td>\n",
       "      <td>-6.893928e+06</td>\n",
       "    </tr>\n",
       "    <tr>\n",
       "      <td>280371</td>\n",
       "      <td>-9.711353e+05</td>\n",
       "      <td>-1.766923e+06</td>\n",
       "      <td>-2.098783e+06</td>\n",
       "      <td>-7.444966e+06</td>\n",
       "      <td>-2.661324e+06</td>\n",
       "      <td>2.852159e+07</td>\n",
       "      <td>-5.890085e+06</td>\n",
       "      <td>1.847551e+07</td>\n",
       "      <td>7.139324e+06</td>\n",
       "      <td>-6.843490e+06</td>\n",
       "    </tr>\n",
       "    <tr>\n",
       "      <td>280372</td>\n",
       "      <td>-9.721416e+05</td>\n",
       "      <td>-1.749028e+06</td>\n",
       "      <td>-2.053060e+06</td>\n",
       "      <td>-7.437505e+06</td>\n",
       "      <td>-2.701685e+06</td>\n",
       "      <td>2.836757e+07</td>\n",
       "      <td>-5.832907e+06</td>\n",
       "      <td>1.839984e+07</td>\n",
       "      <td>7.078779e+06</td>\n",
       "      <td>-6.773734e+06</td>\n",
       "    </tr>\n",
       "    <tr>\n",
       "      <td>280373</td>\n",
       "      <td>-9.732266e+05</td>\n",
       "      <td>-1.742664e+06</td>\n",
       "      <td>-2.033365e+06</td>\n",
       "      <td>-7.449832e+06</td>\n",
       "      <td>-2.729736e+06</td>\n",
       "      <td>2.835597e+07</td>\n",
       "      <td>-5.815588e+06</td>\n",
       "      <td>1.840394e+07</td>\n",
       "      <td>7.067034e+06</td>\n",
       "      <td>-6.755177e+06</td>\n",
       "    </tr>\n",
       "  </tbody>\n",
       "</table>\n",
       "<p>280374 rows × 10 columns</p>\n",
       "</div>"
      ],
      "text/plain": [
       "                   0             1             2             3             4  \\\n",
       "0      -1.335381e+06 -1.934073e+06 -1.494731e+06 -1.082835e+07 -5.443735e+06   \n",
       "1      -1.335176e+06 -1.933761e+06 -1.494108e+06 -1.082822e+07 -5.444292e+06   \n",
       "2      -1.306741e+06 -1.759739e+06 -1.084164e+06 -1.078114e+07 -5.827892e+06   \n",
       "3      -1.350678e+06 -1.740802e+06 -8.988039e+05 -1.130643e+07 -6.343577e+06   \n",
       "4      -1.355346e+06 -1.748827e+06 -9.096332e+05 -1.131690e+07 -6.340475e+06   \n",
       "...              ...           ...           ...           ...           ...   \n",
       "280369 -9.726982e+05 -1.746130e+06 -2.044974e+06 -7.439774e+06 -2.711359e+06   \n",
       "280370 -9.847106e+05 -1.784745e+06 -2.115823e+06 -7.521064e+06 -2.691918e+06   \n",
       "280371 -9.711353e+05 -1.766923e+06 -2.098783e+06 -7.444966e+06 -2.661324e+06   \n",
       "280372 -9.721416e+05 -1.749028e+06 -2.053060e+06 -7.437505e+06 -2.701685e+06   \n",
       "280373 -9.732266e+05 -1.742664e+06 -2.033365e+06 -7.449832e+06 -2.729736e+06   \n",
       "\n",
       "                   5             6             7             8             9  \n",
       "0       3.809128e+07 -6.744779e+06  2.534770e+07  9.169108e+06 -8.280341e+06  \n",
       "1       3.809120e+07 -6.744004e+06  2.534758e+07  9.169605e+06 -8.280560e+06  \n",
       "2       3.707254e+07 -6.242940e+06  2.485439e+07  8.831710e+06 -7.825621e+06  \n",
       "3       3.834439e+07 -6.253035e+06  2.581677e+07  9.092304e+06 -7.950054e+06  \n",
       "4       3.840410e+07 -6.274540e+06  2.585353e+07  9.103044e+06 -7.968066e+06  \n",
       "...              ...           ...           ...           ...           ...  \n",
       "280369  2.834459e+07 -5.824412e+06  1.839118e+07  7.066041e+06 -6.758705e+06  \n",
       "280370  2.877534e+07 -5.944857e+06  1.864662e+07  7.190929e+06 -6.893928e+06  \n",
       "280371  2.852159e+07 -5.890085e+06  1.847551e+07  7.139324e+06 -6.843490e+06  \n",
       "280372  2.836757e+07 -5.832907e+06  1.839984e+07  7.078779e+06 -6.773734e+06  \n",
       "280373  2.835597e+07 -5.815588e+06  1.840394e+07  7.067034e+06 -6.755177e+06  \n",
       "\n",
       "[280374 rows x 10 columns]"
      ]
     },
     "execution_count": 15,
     "metadata": {},
     "output_type": "execute_result"
    }
   ],
   "source": [
    "df_Zsub"
   ]
  },
  {
   "cell_type": "code",
   "execution_count": 16,
   "metadata": {},
   "outputs": [],
   "source": [
    "from sklearn.model_selection import cross_val_score"
   ]
  },
  {
   "cell_type": "code",
   "execution_count": 17,
   "metadata": {},
   "outputs": [],
   "source": [
    "X1 = df_Zsub\n",
    "y1 = numeric['TOTAL_IMP_COST_096'].astype(int)"
   ]
  },
  {
   "cell_type": "code",
   "execution_count": 18,
   "metadata": {},
   "outputs": [],
   "source": [
    "X_train , X_test , y_train , y_test = train_test_split( X1,y1,test_size=0.2,random_state = 42)"
   ]
  },
  {
   "cell_type": "code",
   "execution_count": 19,
   "metadata": {},
   "outputs": [
    {
     "data": {
      "text/plain": [
       "0.8503824732130287"
      ]
     },
     "execution_count": 19,
     "metadata": {},
     "output_type": "execute_result"
    }
   ],
   "source": [
    "lr=LinearRegression()\n",
    "lr.fit(X_train,y_train)\n",
    "cross_val_score(lr,X_train, y_train).mean()"
   ]
  },
  {
   "cell_type": "code",
   "execution_count": 20,
   "metadata": {},
   "outputs": [
    {
     "data": {
      "text/plain": [
       "0.8591473838320347"
      ]
     },
     "execution_count": 20,
     "metadata": {},
     "output_type": "execute_result"
    }
   ],
   "source": [
    "cross_val_score(lr,X_test, y_test).mean()"
   ]
  },
  {
   "cell_type": "code",
   "execution_count": 21,
   "metadata": {},
   "outputs": [
    {
     "data": {
      "text/plain": [
       "(56075,)"
      ]
     },
     "execution_count": 21,
     "metadata": {},
     "output_type": "execute_result"
    }
   ],
   "source": [
    "y_test.shape"
   ]
  },
  {
   "cell_type": "code",
   "execution_count": 22,
   "metadata": {},
   "outputs": [],
   "source": [
    "y_test1 = np.array(y_test)"
   ]
  },
  {
   "cell_type": "code",
   "execution_count": 23,
   "metadata": {},
   "outputs": [
    {
     "data": {
      "text/plain": [
       "4960.566580472581"
      ]
     },
     "execution_count": 23,
     "metadata": {},
     "output_type": "execute_result"
    }
   ],
   "source": [
    "y_test1.mean()"
   ]
  },
  {
   "cell_type": "code",
   "execution_count": 24,
   "metadata": {},
   "outputs": [],
   "source": [
    "predict = lr.predict(X_test)"
   ]
  },
  {
   "cell_type": "code",
   "execution_count": 25,
   "metadata": {},
   "outputs": [],
   "source": [
    "f = pd.DataFrame(predict)"
   ]
  },
  {
   "cell_type": "code",
   "execution_count": 26,
   "metadata": {},
   "outputs": [],
   "source": [
    "residual = y_test - predict"
   ]
  },
  {
   "cell_type": "code",
   "execution_count": 27,
   "metadata": {},
   "outputs": [
    {
     "data": {
      "text/plain": [
       "-107.51934743166642"
      ]
     },
     "execution_count": 27,
     "metadata": {},
     "output_type": "execute_result"
    }
   ],
   "source": [
    "residual.mean() "
   ]
  },
  {
   "cell_type": "code",
   "execution_count": 28,
   "metadata": {},
   "outputs": [
    {
     "data": {
      "image/png": "[encoded data removed]",
      "text/plain": [
       "<Figure size 2160x720 with 1 Axes>"
      ]
     },
     "metadata": {
      "needs_background": "light"
     },
     "output_type": "display_data"
    }
   ],
   "source": [
    "plt.figure(figsize=(30,10))\n",
    "plt.style.use('fivethirtyeight')\n",
    "plt.xticks(fontsize=30)\n",
    "plt.yticks(fontsize=30)\n",
    "sns.distplot(residual,color='r')  \n",
    "plt.savefig('residual')"
   ]
  },
  {
   "cell_type": "code",
   "execution_count": 29,
   "metadata": {},
   "outputs": [
    {
     "data": {
      "text/plain": [
       "5068.085927904195"
      ]
     },
     "execution_count": 29,
     "metadata": {},
     "output_type": "execute_result"
    }
   ],
   "source": [
    " predict.mean()"
   ]
  },
  {
   "cell_type": "code",
   "execution_count": null,
   "metadata": {},
   "outputs": [],
   "source": []
  },
  {
   "cell_type": "code",
   "execution_count": null,
   "metadata": {},
   "outputs": [],
   "source": []
  }
 ],
 "metadata": {
  "kernelspec": {
   "display_name": "Python 3",
   "language": "python",
   "name": "python3"
  },
  "language_info": {
   "codemirror_mode": {
    "name": "ipython",
    "version": 3
   },
   "file_extension": ".py",
   "mimetype": "text/x-python",
   "name": "python",
   "nbconvert_exporter": "python",
   "pygments_lexer": "ipython3",
   "version": "3.7.4"
  }
 },
 "nbformat": 4,
 "nbformat_minor": 4
}
